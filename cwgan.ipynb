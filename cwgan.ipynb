{
 "cells": [
  {
   "cell_type": "code",
   "execution_count": 1,
   "metadata": {},
   "outputs": [],
   "source": [
    "import torch\n",
    "import torch.nn as nn\n",
    "import torch.optim as optim\n",
    "from torch.utils.data import DataLoader, TensorDataset"
   ]
  },
  {
   "cell_type": "code",
   "execution_count": 15,
   "metadata": {},
   "outputs": [],
   "source": [
    "class Generator(nn.Module):\n",
    "    def __init__(self, noise_dim, label_dim, output_dim):\n",
    "        super(Generator, self).__init__()\n",
    "        self.label_emb = nn.Embedding(label_dim, label_dim)\n",
    "        self.net = nn.Sequential(\n",
    "            nn.Linear(noise_dim + label_dim, 256),\n",
    "            nn.LeakyReLU(0.2),\n",
    "            nn.Linear(256, 512),\n",
    "            nn.LeakyReLU(0.2),\n",
    "            nn.Linear(512, 1024),\n",
    "            nn.LeakyReLU(0.2),\n",
    "            nn.Linear(1024, output_dim),\n",
    "            nn.Tanh()\n",
    "        )\n",
    "\n",
    "    def forward(self, noise, labels):\n",
    "        labels = self.label_emb(labels)\n",
    "        gen_input = torch.cat((noise, labels), dim=1)\n",
    "        return self.net(gen_input)\n"
   ]
  },
  {
   "cell_type": "code",
   "execution_count": 24,
   "metadata": {},
   "outputs": [],
   "source": [
    "class Critic(nn.Module):\n",
    "    def __init__(self, input_dim, label_dim):\n",
    "        super(Critic, self).__init__()\n",
    "        self.label_emb = nn.Embedding(label_dim, label_dim)\n",
    "        self.net = nn.Sequential(\n",
    "            nn.Linear(input_dim + label_dim, 1024),\n",
    "            nn.LeakyReLU(0.2),\n",
    "            nn.Linear(1024, 512),\n",
    "            nn.LeakyReLU(0.2),\n",
    "            nn.Linear(512, 256),\n",
    "            nn.Dropout(0.3),\n",
    "            nn.Linear(256, 1)\n",
    "        )\n",
    "\n",
    "    def forward(self, inputs, labels):\n",
    "        labels = self.label_emb(labels).view(labels.size(0), -1)\n",
    "        inputs = inputs.view(inputs.size(0), -1)  # Flatten the inputs\n",
    "        disc_input = torch.cat((inputs, labels), dim=1)\n",
    "        return self.net(disc_input)\n"
   ]
  },
  {
   "cell_type": "code",
   "execution_count": 25,
   "metadata": {},
   "outputs": [],
   "source": [
    "def gradient_penalty(C, real_data, fake_data, real_labels, lambda_gp):\n",
    "    batch_size = real_data.size(0)\n",
    "    epsilon = torch.rand(batch_size, 1, device=real_data.device)\n",
    "    interpolates = epsilon * real_data + ((1 - epsilon) * fake_data)\n",
    "    interpolates.requires_grad_(True)\n",
    "    \n",
    "    interpolated_labels = real_labels.view(batch_size, -1)  # Correct the shape of labels\n",
    "    d_interpolates = C(interpolates, interpolated_labels)\n",
    "    fake = torch.ones(d_interpolates.size(), device=real_data.device)\n",
    "    \n",
    "    gradients = torch.autograd.grad(\n",
    "        outputs=d_interpolates, inputs=interpolates,\n",
    "        grad_outputs=fake, create_graph=True, retain_graph=True, only_inputs=True\n",
    "    )[0]\n",
    "    \n",
    "    gradients = gradients.view(gradients.size(0), -1)\n",
    "    gradient_penalty = ((gradients.norm(2, dim=1) - 1) ** 2).mean() * lambda_gp\n",
    "    return gradient_penalty\n"
   ]
  },
  {
   "cell_type": "code",
   "execution_count": 31,
   "metadata": {},
   "outputs": [],
   "source": [
    "def train_gan(data, labels, epochs=300, batch_size=32, noise_dim=100, lr=3e-4, lambda_gp=10):\n",
    "    device = torch.device('cuda' if torch.cuda.is_available() else 'cpu')\n",
    "    \n",
    "    data = data.float()\n",
    "    labels = labels.long()\n",
    "    \n",
    "    dataset = TensorDataset(data, labels)\n",
    "    dataloader = DataLoader(dataset, batch_size=batch_size, shuffle=True)\n",
    "    \n",
    "    G = Generator(noise_dim, 8, data.shape[1] * data.shape[2]).to(device)\n",
    "    C = Critic(data.shape[1] * data.shape[2], 8).to(device)\n",
    "    \n",
    "    optimizer_g = optim.Adam(G.parameters(), lr=lr, betas=(0.5, 0.999))\n",
    "    optimizer_c = optim.Adam(C.parameters(), lr=lr, betas=(0.5, 0.999))\n",
    "    \n",
    "    for epoch in range(epochs):\n",
    "        for i, (real_data, real_labels) in enumerate(dataloader):\n",
    "            real_data = real_data.to(device).view(-1, data.shape[1] * data.shape[2])\n",
    "            real_labels = real_labels.to(device)\n",
    "            \n",
    "            batch_size = real_data.size(0)\n",
    "            noise = torch.randn(batch_size, noise_dim).to(device)\n",
    "            fake_labels = torch.randint(0, 8, (batch_size,)).to(device)\n",
    "            fake_data = G(noise, fake_labels)\n",
    "            \n",
    "            real_targets = torch.ones(batch_size, 1).to(device)\n",
    "            fake_targets = torch.zeros(batch_size, 1).to(device)\n",
    "            \n",
    "            # Train Critic\n",
    "            optimizer_c.zero_grad()\n",
    "            real_output = C(real_data, real_labels)\n",
    "            fake_output = C(fake_data.detach(), fake_labels)\n",
    "            gp = gradient_penalty(C, real_data, fake_data, real_labels, lambda_gp)\n",
    "            loss_c = -torch.mean(real_output) + torch.mean(fake_output) + gp\n",
    "            loss_c.backward(retain_graph=True)\n",
    "            optimizer_c.step()\n",
    "            \n",
    "            # Train Generator every 5 iterations of Critic\n",
    "            if i % 5 == 0:\n",
    "                optimizer_g.zero_grad()\n",
    "                fake_output = C(fake_data, fake_labels)\n",
    "                loss_g = -torch.mean(fake_output)\n",
    "                loss_g.backward(retain_graph=True)\n",
    "                optimizer_g.step()\n",
    "        \n",
    "        if (epoch + 1) % 20 == 0:\n",
    "            print(f'Epoch [{epoch + 1}/{epochs}], Critic Loss: {loss_c.item():.4f}, Generator Loss: {loss_g.item():.4f}')\n",
    "            torch.save(G.state_dict(), f'cwgan_generator_{epoch + 1}.pth')\n",
    "\n",
    "    return G, C"
   ]
  },
  {
   "cell_type": "code",
   "execution_count": 32,
   "metadata": {},
   "outputs": [
    {
     "name": "stderr",
     "output_type": "stream",
     "text": [
      "C:\\Users\\devan\\AppData\\Local\\Temp\\ipykernel_10032\\2414553031.py:1: FutureWarning: You are using `torch.load` with `weights_only=False` (the current default value), which uses the default pickle module implicitly. It is possible to construct malicious pickle data which will execute arbitrary code during unpickling (See https://github.com/pytorch/pytorch/blob/main/SECURITY.md#untrusted-models for more details). In a future release, the default value for `weights_only` will be flipped to `True`. This limits the functions that could be executed during unpickling. Arbitrary objects will no longer be allowed to be loaded via this mode unless they are explicitly allowlisted by the user via `torch.serialization.add_safe_globals`. We recommend you start setting `weights_only=True` for any use case where you don't have full control of the loaded file. Please open an issue on GitHub for any issues related to this experimental feature.\n",
      "  data = torch.load('data_mm_user1.pth')\n",
      "C:\\Users\\devan\\AppData\\Local\\Temp\\ipykernel_10032\\2414553031.py:2: FutureWarning: You are using `torch.load` with `weights_only=False` (the current default value), which uses the default pickle module implicitly. It is possible to construct malicious pickle data which will execute arbitrary code during unpickling (See https://github.com/pytorch/pytorch/blob/main/SECURITY.md#untrusted-models for more details). In a future release, the default value for `weights_only` will be flipped to `True`. This limits the functions that could be executed during unpickling. Arbitrary objects will no longer be allowed to be loaded via this mode unless they are explicitly allowlisted by the user via `torch.serialization.add_safe_globals`. We recommend you start setting `weights_only=True` for any use case where you don't have full control of the loaded file. Please open an issue on GitHub for any issues related to this experimental feature.\n",
      "  labels = torch.load('labels_user1.pth')\n"
     ]
    },
    {
     "name": "stdout",
     "output_type": "stream",
     "text": [
      "Data size: torch.Size([1800, 50, 30])\n",
      "Labels size: torch.Size([1800])\n",
      "Epoch [20/300], Critic Loss: -128739.6562, Generator Loss: -3486.6536\n",
      "Epoch [40/300], Critic Loss: -95570.0781, Generator Loss: -3522.4817\n",
      "Epoch [60/300], Critic Loss: -80596.2266, Generator Loss: -938.2299\n",
      "Epoch [80/300], Critic Loss: -162228.7500, Generator Loss: 90707.3125\n",
      "Epoch [100/300], Critic Loss: -64606.4805, Generator Loss: 247655.0938\n",
      "Epoch [120/300], Critic Loss: -1019356.1875, Generator Loss: 1068496.0000\n",
      "Epoch [140/300], Critic Loss: -249934.1250, Generator Loss: 3819869.5000\n",
      "Epoch [160/300], Critic Loss: -969688.4375, Generator Loss: 5113688.0000\n"
     ]
    },
    {
     "ename": "KeyboardInterrupt",
     "evalue": "",
     "output_type": "error",
     "traceback": [
      "\u001b[1;31m---------------------------------------------------------------------------\u001b[0m",
      "\u001b[1;31mKeyboardInterrupt\u001b[0m                         Traceback (most recent call last)",
      "Cell \u001b[1;32mIn[32], line 7\u001b[0m\n\u001b[0;32m      4\u001b[0m \u001b[38;5;28mprint\u001b[39m(\u001b[38;5;124mf\u001b[39m\u001b[38;5;124m'\u001b[39m\u001b[38;5;124mData size: \u001b[39m\u001b[38;5;132;01m{\u001b[39;00mdata\u001b[38;5;241m.\u001b[39mshape\u001b[38;5;132;01m}\u001b[39;00m\u001b[38;5;124m'\u001b[39m)\n\u001b[0;32m      5\u001b[0m \u001b[38;5;28mprint\u001b[39m(\u001b[38;5;124mf\u001b[39m\u001b[38;5;124m'\u001b[39m\u001b[38;5;124mLabels size: \u001b[39m\u001b[38;5;132;01m{\u001b[39;00mlabels\u001b[38;5;241m.\u001b[39mshape\u001b[38;5;132;01m}\u001b[39;00m\u001b[38;5;124m'\u001b[39m)\n\u001b[1;32m----> 7\u001b[0m G, C \u001b[38;5;241m=\u001b[39m \u001b[43mtrain_gan\u001b[49m\u001b[43m(\u001b[49m\u001b[43mdata\u001b[49m\u001b[43m,\u001b[49m\u001b[43m \u001b[49m\u001b[43mlabels\u001b[49m\u001b[43m)\u001b[49m\n",
      "Cell \u001b[1;32mIn[31], line 33\u001b[0m, in \u001b[0;36mtrain_gan\u001b[1;34m(data, labels, epochs, batch_size, noise_dim, lr, lambda_gp)\u001b[0m\n\u001b[0;32m     31\u001b[0m real_output \u001b[38;5;241m=\u001b[39m C(real_data, real_labels)\n\u001b[0;32m     32\u001b[0m fake_output \u001b[38;5;241m=\u001b[39m C(fake_data\u001b[38;5;241m.\u001b[39mdetach(), fake_labels)\n\u001b[1;32m---> 33\u001b[0m gp \u001b[38;5;241m=\u001b[39m \u001b[43mgradient_penalty\u001b[49m\u001b[43m(\u001b[49m\u001b[43mC\u001b[49m\u001b[43m,\u001b[49m\u001b[43m \u001b[49m\u001b[43mreal_data\u001b[49m\u001b[43m,\u001b[49m\u001b[43m \u001b[49m\u001b[43mfake_data\u001b[49m\u001b[43m,\u001b[49m\u001b[43m \u001b[49m\u001b[43mreal_labels\u001b[49m\u001b[43m,\u001b[49m\u001b[43m \u001b[49m\u001b[43mlambda_gp\u001b[49m\u001b[43m)\u001b[49m\n\u001b[0;32m     34\u001b[0m loss_c \u001b[38;5;241m=\u001b[39m \u001b[38;5;241m-\u001b[39mtorch\u001b[38;5;241m.\u001b[39mmean(real_output) \u001b[38;5;241m+\u001b[39m torch\u001b[38;5;241m.\u001b[39mmean(fake_output) \u001b[38;5;241m+\u001b[39m gp\n\u001b[0;32m     35\u001b[0m loss_c\u001b[38;5;241m.\u001b[39mbackward(retain_graph\u001b[38;5;241m=\u001b[39m\u001b[38;5;28;01mTrue\u001b[39;00m)\n",
      "Cell \u001b[1;32mIn[25], line 3\u001b[0m, in \u001b[0;36mgradient_penalty\u001b[1;34m(C, real_data, fake_data, real_labels, lambda_gp)\u001b[0m\n\u001b[0;32m      1\u001b[0m \u001b[38;5;28;01mdef\u001b[39;00m \u001b[38;5;21mgradient_penalty\u001b[39m(C, real_data, fake_data, real_labels, lambda_gp):\n\u001b[0;32m      2\u001b[0m     batch_size \u001b[38;5;241m=\u001b[39m real_data\u001b[38;5;241m.\u001b[39msize(\u001b[38;5;241m0\u001b[39m)\n\u001b[1;32m----> 3\u001b[0m     epsilon \u001b[38;5;241m=\u001b[39m \u001b[43mtorch\u001b[49m\u001b[38;5;241;43m.\u001b[39;49m\u001b[43mrand\u001b[49m\u001b[43m(\u001b[49m\u001b[43mbatch_size\u001b[49m\u001b[43m,\u001b[49m\u001b[43m \u001b[49m\u001b[38;5;241;43m1\u001b[39;49m\u001b[43m,\u001b[49m\u001b[43m \u001b[49m\u001b[43mdevice\u001b[49m\u001b[38;5;241;43m=\u001b[39;49m\u001b[43mreal_data\u001b[49m\u001b[38;5;241;43m.\u001b[39;49m\u001b[43mdevice\u001b[49m\u001b[43m)\u001b[49m\n\u001b[0;32m      4\u001b[0m     interpolates \u001b[38;5;241m=\u001b[39m epsilon \u001b[38;5;241m*\u001b[39m real_data \u001b[38;5;241m+\u001b[39m ((\u001b[38;5;241m1\u001b[39m \u001b[38;5;241m-\u001b[39m epsilon) \u001b[38;5;241m*\u001b[39m fake_data)\n\u001b[0;32m      5\u001b[0m     interpolates\u001b[38;5;241m.\u001b[39mrequires_grad_(\u001b[38;5;28;01mTrue\u001b[39;00m)\n",
      "\u001b[1;31mKeyboardInterrupt\u001b[0m: "
     ]
    }
   ],
   "source": [
    "data = torch.load('data_mm_user1.pth')  \n",
    "labels = torch.load('labels_user1.pth')  \n",
    "\n",
    "print(f'Data size: {data.shape}')\n",
    "print(f'Labels size: {labels.shape}')\n",
    "\n",
    "G, C = train_gan(data, labels)"
   ]
  }
 ],
 "metadata": {
  "kernelspec": {
   "display_name": "Python 3",
   "language": "python",
   "name": "python3"
  },
  "language_info": {
   "codemirror_mode": {
    "name": "ipython",
    "version": 3
   },
   "file_extension": ".py",
   "mimetype": "text/x-python",
   "name": "python",
   "nbconvert_exporter": "python",
   "pygments_lexer": "ipython3",
   "version": "3.11.2"
  }
 },
 "nbformat": 4,
 "nbformat_minor": 2
}
